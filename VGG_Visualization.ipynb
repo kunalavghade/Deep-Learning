{
  "cells": [
    {
      "cell_type": "code",
      "source": [
        "from google.colab import drive\n",
        "drive.mount('/content/drive')"
      ],
      "metadata": {
        "colab": {
          "base_uri": "https://localhost:8080/"
        },
        "id": "LY8Jd8CHuXbO",
        "outputId": "e6f3db0e-5eb5-4e19-e2e4-35e479342c2c"
      },
      "execution_count": 1,
      "outputs": [
        {
          "output_type": "stream",
          "name": "stdout",
          "text": [
            "Mounted at /content/drive\n"
          ]
        }
      ]
    },
    {
      "cell_type": "markdown",
      "source": [
        "### **Load Librarys And Model**"
      ],
      "metadata": {
        "id": "XBsvCiTaudny"
      }
    },
    {
      "cell_type": "code",
      "execution_count": 2,
      "metadata": {
        "id": "AGMohef2AJVo"
      },
      "outputs": [],
      "source": [
        "import keras"
      ]
    },
    {
      "cell_type": "code",
      "execution_count": 3,
      "metadata": {
        "scrolled": true,
        "colab": {
          "base_uri": "https://localhost:8080/"
        },
        "id": "mdv2ECc7AJVt",
        "outputId": "bf3747f5-88c8-4c84-8fa4-6154b6b3d3ba"
      },
      "outputs": [
        {
          "output_type": "stream",
          "name": "stdout",
          "text": [
            "Downloading data from https://storage.googleapis.com/tensorflow/keras-applications/vgg16/vgg16_weights_tf_dim_ordering_tf_kernels.h5\n",
            "553467096/553467096 [==============================] - 3s 0us/step\n",
            "Model: \"vgg16\"\n",
            "_________________________________________________________________\n",
            " Layer (type)                Output Shape              Param #   \n",
            "=================================================================\n",
            " input_1 (InputLayer)        [(None, 224, 224, 3)]     0         \n",
            "                                                                 \n",
            " block1_conv1 (Conv2D)       (None, 224, 224, 64)      1792      \n",
            "                                                                 \n",
            " block1_conv2 (Conv2D)       (None, 224, 224, 64)      36928     \n",
            "                                                                 \n",
            " block1_pool (MaxPooling2D)  (None, 112, 112, 64)      0         \n",
            "                                                                 \n",
            " block2_conv1 (Conv2D)       (None, 112, 112, 128)     73856     \n",
            "                                                                 \n",
            " block2_conv2 (Conv2D)       (None, 112, 112, 128)     147584    \n",
            "                                                                 \n",
            " block2_pool (MaxPooling2D)  (None, 56, 56, 128)       0         \n",
            "                                                                 \n",
            " block3_conv1 (Conv2D)       (None, 56, 56, 256)       295168    \n",
            "                                                                 \n",
            " block3_conv2 (Conv2D)       (None, 56, 56, 256)       590080    \n",
            "                                                                 \n",
            " block3_conv3 (Conv2D)       (None, 56, 56, 256)       590080    \n",
            "                                                                 \n",
            " block3_pool (MaxPooling2D)  (None, 28, 28, 256)       0         \n",
            "                                                                 \n",
            " block4_conv1 (Conv2D)       (None, 28, 28, 512)       1180160   \n",
            "                                                                 \n",
            " block4_conv2 (Conv2D)       (None, 28, 28, 512)       2359808   \n",
            "                                                                 \n",
            " block4_conv3 (Conv2D)       (None, 28, 28, 512)       2359808   \n",
            "                                                                 \n",
            " block4_pool (MaxPooling2D)  (None, 14, 14, 512)       0         \n",
            "                                                                 \n",
            " block5_conv1 (Conv2D)       (None, 14, 14, 512)       2359808   \n",
            "                                                                 \n",
            " block5_conv2 (Conv2D)       (None, 14, 14, 512)       2359808   \n",
            "                                                                 \n",
            " block5_conv3 (Conv2D)       (None, 14, 14, 512)       2359808   \n",
            "                                                                 \n",
            " block5_pool (MaxPooling2D)  (None, 7, 7, 512)         0         \n",
            "                                                                 \n",
            " flatten (Flatten)           (None, 25088)             0         \n",
            "                                                                 \n",
            " fc1 (Dense)                 (None, 4096)              102764544 \n",
            "                                                                 \n",
            " fc2 (Dense)                 (None, 4096)              16781312  \n",
            "                                                                 \n",
            " predictions (Dense)         (None, 1000)              4097000   \n",
            "                                                                 \n",
            "=================================================================\n",
            "Total params: 138,357,544\n",
            "Trainable params: 138,357,544\n",
            "Non-trainable params: 0\n",
            "_________________________________________________________________\n"
          ]
        }
      ],
      "source": [
        "# load vgg model\n",
        "from keras.applications.vgg16 import VGG16\n",
        "# load the model\n",
        "model = VGG16()\n",
        "# summarize the model\n",
        "model.summary()"
      ]
    },
    {
      "cell_type": "markdown",
      "metadata": {
        "id": "2obsqropAJVv"
      },
      "source": [
        "### **Extracting only convolution layers and their weights**"
      ]
    },
    {
      "cell_type": "code",
      "execution_count": 4,
      "metadata": {
        "colab": {
          "base_uri": "https://localhost:8080/"
        },
        "id": "c66ppxIVAJVw",
        "outputId": "af976ada-1a15-4161-b73e-b16a9b81e0a8"
      },
      "outputs": [
        {
          "output_type": "stream",
          "name": "stdout",
          "text": [
            "block1_conv1 (3, 3, 3, 64)\n",
            "block1_conv2 (3, 3, 64, 64)\n",
            "block2_conv1 (3, 3, 64, 128)\n",
            "block2_conv2 (3, 3, 128, 128)\n",
            "block3_conv1 (3, 3, 128, 256)\n",
            "block3_conv2 (3, 3, 256, 256)\n",
            "block3_conv3 (3, 3, 256, 256)\n",
            "block4_conv1 (3, 3, 256, 512)\n",
            "block4_conv2 (3, 3, 512, 512)\n",
            "block4_conv3 (3, 3, 512, 512)\n",
            "block5_conv1 (3, 3, 512, 512)\n",
            "block5_conv2 (3, 3, 512, 512)\n",
            "block5_conv3 (3, 3, 512, 512)\n"
          ]
        }
      ],
      "source": [
        "# summarize filters in each convolutional layer\n",
        "#from keras.applications.vgg16 import VGG16\n",
        "from matplotlib import pyplot\n",
        "# load the model\n",
        "#model = VGG16()\n",
        "# summarize filter shapes\n",
        "for layer in model.layers:\n",
        "\t# check for convolutional layer\n",
        "\tif 'conv' in layer.name:\n",
        "\t# get filter weights\n",
        "\t\tfilters, biases = layer.get_weights()\n",
        "\t\tprint(layer.name, filters.shape)"
      ]
    },
    {
      "cell_type": "code",
      "execution_count": 5,
      "metadata": {
        "id": "B22hr6dGAJVx"
      },
      "outputs": [],
      "source": [
        "# retrieve weights from the second hidden layer\n",
        "filters, biases = model.layers[1].get_weights() # Here we can give the layer no to visualize"
      ]
    },
    {
      "cell_type": "code",
      "execution_count": 6,
      "metadata": {
        "colab": {
          "base_uri": "https://localhost:8080/"
        },
        "id": "Ql1UfAkBAJVy",
        "outputId": "de20ae64-53a3-407e-cfc9-09a05c7f2e7a"
      },
      "outputs": [
        {
          "output_type": "stream",
          "name": "stdout",
          "text": [
            "(3, 3, 3, 64)\n"
          ]
        }
      ],
      "source": [
        "print(filters.shape)"
      ]
    },
    {
      "cell_type": "markdown",
      "source": [
        "### **Normalize filter values to 0-1 so we can visualize them**"
      ],
      "metadata": {
        "id": "LD_DlBgVvPjS"
      }
    },
    {
      "cell_type": "code",
      "execution_count": 7,
      "metadata": {
        "colab": {
          "base_uri": "https://localhost:8080/"
        },
        "id": "a5LgZoS2AJVz",
        "outputId": "10da7a96-94b2-4b79-c245-a08e6981fc5e"
      },
      "outputs": [
        {
          "output_type": "execute_result",
          "data": {
            "text/plain": [
              "array([[[[0.8601116 , 0.6161919 , 0.55114007, ..., 0.4212452 ,\n",
              "          0.4828852 , 0.5304859 ],\n",
              "         [0.9545779 , 0.5408773 , 0.6017826 , ..., 0.4582953 ,\n",
              "          0.4846108 , 0.5538601 ],\n",
              "         [0.89960235, 0.3896376 , 0.5539096 , ..., 0.42523453,\n",
              "          0.4852669 , 0.5518304 ]],\n",
              "\n",
              "        [[0.81635594, 0.65118545, 0.52590066, ..., 0.4087713 ,\n",
              "          0.340725  , 0.47531587],\n",
              "         [0.8683965 , 0.5615535 , 0.5647105 , ..., 0.44733417,\n",
              "          0.2931476 , 0.46953422],\n",
              "         [0.8437643 , 0.39145148, 0.5206881 , ..., 0.42896524,\n",
              "          0.30857468, 0.4940327 ]],\n",
              "\n",
              "        [[0.47662497, 0.63058364, 0.43417358, ..., 0.4150598 ,\n",
              "          0.22949417, 0.28977698],\n",
              "         [0.4609779 , 0.5572666 , 0.4450579 , ..., 0.4508793 ,\n",
              "          0.12949093, 0.22478487],\n",
              "         [0.4736674 , 0.40397066, 0.41671643, ..., 0.42346177,\n",
              "          0.16341406, 0.27143562]]],\n",
              "\n",
              "\n",
              "       [[[0.7392438 , 0.6404719 , 0.6507926 , ..., 0.43525034,\n",
              "          0.810127  , 0.7901605 ],\n",
              "         [0.7946921 , 0.5488246 , 0.7126644 , ..., 0.4703888 ,\n",
              "          0.86608565, 0.84737706],\n",
              "         [0.767142  , 0.37799242, 0.65472686, ..., 0.44734278,\n",
              "          0.84025717, 0.8312743 ]],\n",
              "\n",
              "        [[0.55478704, 0.6826218 , 0.6467724 , ..., 0.48393103,\n",
              "          0.7254765 , 0.81496185],\n",
              "         [0.55631167, 0.5759833 , 0.69669527, ..., 0.5216048 ,\n",
              "          0.73505795, 0.8445131 ],\n",
              "         [0.5637889 , 0.38582882, 0.6426892 , ..., 0.51357675,\n",
              "          0.7271578 , 0.8556534 ]],\n",
              "\n",
              "        [[0.23765364, 0.6508931 , 0.45429817, ..., 0.41053838,\n",
              "          0.31218964, 0.3372736 ],\n",
              "         [0.17024457, 0.56070673, 0.47241867, ..., 0.44369915,\n",
              "          0.25439772, 0.29604584],\n",
              "         [0.20940173, 0.3883068 , 0.43874004, ..., 0.42636505,\n",
              "          0.27921656, 0.3426477 ]]],\n",
              "\n",
              "\n",
              "       [[[0.47966576, 0.6256226 , 0.53464687, ..., 0.41405112,\n",
              "          0.7129372 , 0.560162  ],\n",
              "         [0.47875416, 0.5493164 , 0.58391243, ..., 0.4425156 ,\n",
              "          0.78985673, 0.6016313 ],\n",
              "         [0.48481962, 0.39486766, 0.5367759 , ..., 0.40757152,\n",
              "          0.7642704 , 0.5935313 ]],\n",
              "\n",
              "        [[0.31966972, 0.65861547, 0.52460825, ..., 0.42867762,\n",
              "          0.7157403 , 0.56620234],\n",
              "         [0.2662131 , 0.56731075, 0.5625993 , ..., 0.45979398,\n",
              "          0.7554137 , 0.58273125],\n",
              "         [0.3017171 , 0.39434877, 0.51834106, ..., 0.4387944 ,\n",
              "          0.74270797, 0.59851784]],\n",
              "\n",
              "        [[0.25103468, 0.63294035, 0.42663756, ..., 0.40495452,\n",
              "          0.41524813, 0.3174621 ],\n",
              "         [0.145611  , 0.55763006, 0.43700036, ..., 0.43213305,\n",
              "          0.3940431 , 0.27279767],\n",
              "         [0.19757837, 0.40186328, 0.40804785, ..., 0.4020266 ,\n",
              "          0.41293785, 0.31385297]]]], dtype=float32)"
            ]
          },
          "metadata": {},
          "execution_count": 7
        }
      ],
      "source": [
        "f_min, f_max = filters.min(), filters.max()\n",
        "filters = (filters - f_min) / (f_max - f_min)\n",
        "filters"
      ]
    },
    {
      "cell_type": "markdown",
      "source": [
        "### **Plot first few filters**"
      ],
      "metadata": {
        "id": "-E3wzg3Vva4Q"
      }
    },
    {
      "cell_type": "code",
      "execution_count": 8,
      "metadata": {
        "colab": {
          "base_uri": "https://localhost:8080/",
          "height": 252
        },
        "collapsed": true,
        "id": "1EtgyGjYAJV0",
        "outputId": "54ffc9dc-4d06-4101-da2a-cd92d7c6b515"
      },
      "outputs": [
        {
          "output_type": "display_data",
          "data": {
            "text/plain": [
              "<Figure size 432x288 with 9 Axes>"
            ],
            "image/png": "[encoded data removed]"
          },
          "metadata": {}
        }
      ],
      "source": [
        "import matplotlib.pyplot as pyplot\n",
        "n_filters, ix = 3,1   #  if ix=2,1 next filters \n",
        "for i in range(n_filters):\n",
        "\t# get the filter\n",
        "\tf = filters[:, :, :, i]\n",
        "   \t# plot each channel separately\n",
        "\tfor j in range(3):\n",
        "\t\t# specify subplot and turn of axis\n",
        "\t\tax = pyplot.subplot(n_filters,3, ix)\n",
        "\t\tax.set_xticks([])\n",
        "\t\tax.set_yticks([])\n",
        "\t\t# plot filter channel in grayscale\n",
        "\t\tpyplot.imshow(f[:, :, j], cmap='gray')# Shows gray representation\n",
        "\t\t# pyplot.imshow(f[:, :, j], cmap='viridis') # Shows colorful representation\n",
        "\t\t# pyplot.imshow(f[:, :, j], cmap='hot') # Shows colorful representation\n",
        "\t\tix += 1\n",
        "# show the figure\n",
        "pyplot.show()"
      ]
    },
    {
      "cell_type": "code",
      "execution_count": 9,
      "metadata": {
        "scrolled": true,
        "id": "gNEJJX_GAJV1",
        "outputId": "5953cc08-b1e1-413c-eb2c-1b4407344258",
        "colab": {
          "base_uri": "https://localhost:8080/"
        }
      },
      "outputs": [
        {
          "output_type": "stream",
          "name": "stdout",
          "text": [
            "[[[0.55114007 0.6017826  0.5539096 ]\n",
            "  [0.52590066 0.5647105  0.5206881 ]\n",
            "  [0.43417358 0.4450579  0.41671643]]\n",
            "\n",
            " [[0.6507926  0.7126644  0.65472686]\n",
            "  [0.6467724  0.69669527 0.6426892 ]\n",
            "  [0.45429817 0.47241867 0.43874004]]\n",
            "\n",
            " [[0.53464687 0.58391243 0.5367759 ]\n",
            "  [0.52460825 0.5625993  0.51834106]\n",
            "  [0.42663756 0.43700036 0.40804785]]]\n"
          ]
        }
      ],
      "source": [
        "print(f)   "
      ]
    },
    {
      "cell_type": "markdown",
      "source": [
        "### **Summarize feature map shapes**"
      ],
      "metadata": {
        "id": "xIjAb_Q7vlkH"
      }
    },
    {
      "cell_type": "code",
      "execution_count": 10,
      "metadata": {
        "colab": {
          "base_uri": "https://localhost:8080/"
        },
        "id": "UC-IC5l9AJV2",
        "outputId": "aa158af7-8d17-4d4b-eafe-9c1437714956"
      },
      "outputs": [
        {
          "output_type": "stream",
          "name": "stdout",
          "text": [
            "1 block1_conv1 (None, 224, 224, 64)\n",
            "2 block1_conv2 (None, 224, 224, 64)\n",
            "4 block2_conv1 (None, 112, 112, 128)\n",
            "5 block2_conv2 (None, 112, 112, 128)\n",
            "7 block3_conv1 (None, 56, 56, 256)\n",
            "8 block3_conv2 (None, 56, 56, 256)\n",
            "9 block3_conv3 (None, 56, 56, 256)\n",
            "11 block4_conv1 (None, 28, 28, 512)\n",
            "12 block4_conv2 (None, 28, 28, 512)\n",
            "13 block4_conv3 (None, 28, 28, 512)\n",
            "15 block5_conv1 (None, 14, 14, 512)\n",
            "16 block5_conv2 (None, 14, 14, 512)\n",
            "17 block5_conv3 (None, 14, 14, 512)\n"
          ]
        }
      ],
      "source": [
        "for i in range(len(model.layers)):\n",
        "\tlayer = model.layers[i]\n",
        "\t# check for convolutional layer\n",
        "\tif 'conv' in layer.name:\n",
        "\t# summarize output shape\n",
        "\t\tprint(i, layer.name, layer.output.shape)"
      ]
    },
    {
      "cell_type": "markdown",
      "source": [
        "### **Redefine model to output right after the second hidden layer**"
      ],
      "metadata": {
        "id": "_udqFDzSvu6e"
      }
    },
    {
      "cell_type": "code",
      "execution_count": 14,
      "metadata": {
        "scrolled": true,
        "id": "Qw8IVNegAJV3"
      },
      "outputs": [],
      "source": [
        "from keras.applications.vgg16 import preprocess_input\n",
        "from keras_preprocessing.image import load_img\n",
        "from keras_preprocessing.image import img_to_array\n",
        "from keras.models import Model\n",
        "from matplotlib import pyplot \n",
        "from numpy import expand_dims\n",
        "import cv2\n",
        "model_layer2 = Model(inputs=model.inputs, outputs=model.layers[2].output)"
      ]
    },
    {
      "cell_type": "code",
      "execution_count": 15,
      "metadata": {
        "id": "6MEFKNXAAJV4",
        "outputId": "e4095c49-4f45-4290-b856-059343706d51",
        "colab": {
          "base_uri": "https://localhost:8080/"
        }
      },
      "outputs": [
        {
          "output_type": "stream",
          "name": "stdout",
          "text": [
            "Model: \"model_1\"\n",
            "_________________________________________________________________\n",
            " Layer (type)                Output Shape              Param #   \n",
            "=================================================================\n",
            " input_1 (InputLayer)        [(None, 224, 224, 3)]     0         \n",
            "                                                                 \n",
            " block1_conv1 (Conv2D)       (None, 224, 224, 64)      1792      \n",
            "                                                                 \n",
            " block1_conv2 (Conv2D)       (None, 224, 224, 64)      36928     \n",
            "                                                                 \n",
            "=================================================================\n",
            "Total params: 38,720\n",
            "Trainable params: 38,720\n",
            "Non-trainable params: 0\n",
            "_________________________________________________________________\n"
          ]
        }
      ],
      "source": [
        "model_layer2.summary()"
      ]
    },
    {
      "cell_type": "markdown",
      "source": [
        "### **load the image with the required shape**"
      ],
      "metadata": {
        "id": "aTBul23fwlQH"
      }
    },
    {
      "cell_type": "code",
      "execution_count": 16,
      "metadata": {
        "id": "OxSysB4mAJV4"
      },
      "outputs": [],
      "source": [
        "img = load_img('/content/drive/MyDrive/Colab Notebooks/truck.jpg', target_size=(224, 224))"
      ]
    },
    {
      "cell_type": "code",
      "execution_count": 17,
      "metadata": {
        "id": "HZMmdgBtAJV5"
      },
      "outputs": [],
      "source": [
        "# convert the image to an array\n",
        "img = img_to_array(img)\n",
        "# expand dimensions so that it represents a single 'sample'\n",
        "img = expand_dims(img, axis=0)"
      ]
    },
    {
      "cell_type": "code",
      "execution_count": 18,
      "metadata": {
        "colab": {
          "base_uri": "https://localhost:8080/"
        },
        "id": "x-jlgUvXAJV5",
        "outputId": "1a66f08d-0792-4966-b434-d70b71f2ebc0"
      },
      "outputs": [
        {
          "output_type": "stream",
          "name": "stdout",
          "text": [
            "(1, 224, 224, 3)\n"
          ]
        }
      ],
      "source": [
        "print(img.shape)"
      ]
    },
    {
      "cell_type": "code",
      "execution_count": 19,
      "metadata": {
        "id": "xjVfZh8dAJV6",
        "colab": {
          "base_uri": "https://localhost:8080/"
        },
        "outputId": "a66139da-da43-4741-bb83-20dce8b60240"
      },
      "outputs": [
        {
          "output_type": "stream",
          "name": "stdout",
          "text": [
            "1/1 [==============================] - 1s 635ms/step\n"
          ]
        }
      ],
      "source": [
        "# prepare the image (e.g. scale pixel values for the vgg)\n",
        "img = preprocess_input(img)\n",
        "# get feature map for first hidden layer\n",
        "feature_maps = model_layer2.predict(img)"
      ]
    },
    {
      "cell_type": "code",
      "execution_count": 20,
      "metadata": {
        "colab": {
          "base_uri": "https://localhost:8080/",
          "height": 252
        },
        "id": "3gqxRoZQAJV6",
        "outputId": "8816e546-2ba4-49bd-ed3c-1770a007a039"
      },
      "outputs": [
        {
          "output_type": "display_data",
          "data": {
            "text/plain": [
              "<Figure size 432x288 with 16 Axes>"
            ],
            "image/png": "[encoded data removed]"
          },
          "metadata": {}
        }
      ],
      "source": [
        "# plot all 64 maps in an 8x8 squares\n",
        "square = 4\n",
        "ix = 1\n",
        "for _ in range(square):\n",
        "\tfor _ in range(square):\n",
        "\t\t# specify subplot and turn of axis\n",
        "\t\tax = pyplot.subplot(square, square, ix)\n",
        "\t\tax.set_xticks([])\n",
        "\t\tax.set_yticks([])\n",
        "\t\t# plot filter channel in grayscale\n",
        "\t\tpyplot.imshow(feature_maps[0, :, :, ix-1], cmap='gray')\n",
        "\t\tix += 1\n",
        "# show the figure\n",
        "pyplot.show()"
      ]
    },
    {
      "cell_type": "markdown",
      "source": [
        "### **Redefine model at layer 13**"
      ],
      "metadata": {
        "id": "ezD0iFiHxN-p"
      }
    },
    {
      "cell_type": "code",
      "execution_count": 22,
      "metadata": {
        "id": "hwYoCKfoAJV7",
        "colab": {
          "base_uri": "https://localhost:8080/"
        },
        "outputId": "e310064b-b983-4bec-b7e6-575a2a270496"
      },
      "outputs": [
        {
          "output_type": "stream",
          "name": "stdout",
          "text": [
            "Model: \"model_3\"\n",
            "_________________________________________________________________\n",
            " Layer (type)                Output Shape              Param #   \n",
            "=================================================================\n",
            " input_1 (InputLayer)        [(None, 224, 224, 3)]     0         \n",
            "                                                                 \n",
            " block1_conv1 (Conv2D)       (None, 224, 224, 64)      1792      \n",
            "                                                                 \n",
            " block1_conv2 (Conv2D)       (None, 224, 224, 64)      36928     \n",
            "                                                                 \n",
            " block1_pool (MaxPooling2D)  (None, 112, 112, 64)      0         \n",
            "                                                                 \n",
            " block2_conv1 (Conv2D)       (None, 112, 112, 128)     73856     \n",
            "                                                                 \n",
            " block2_conv2 (Conv2D)       (None, 112, 112, 128)     147584    \n",
            "                                                                 \n",
            " block2_pool (MaxPooling2D)  (None, 56, 56, 128)       0         \n",
            "                                                                 \n",
            " block3_conv1 (Conv2D)       (None, 56, 56, 256)       295168    \n",
            "                                                                 \n",
            " block3_conv2 (Conv2D)       (None, 56, 56, 256)       590080    \n",
            "                                                                 \n",
            " block3_conv3 (Conv2D)       (None, 56, 56, 256)       590080    \n",
            "                                                                 \n",
            " block3_pool (MaxPooling2D)  (None, 28, 28, 256)       0         \n",
            "                                                                 \n",
            " block4_conv1 (Conv2D)       (None, 28, 28, 512)       1180160   \n",
            "                                                                 \n",
            " block4_conv2 (Conv2D)       (None, 28, 28, 512)       2359808   \n",
            "                                                                 \n",
            " block4_conv3 (Conv2D)       (None, 28, 28, 512)       2359808   \n",
            "                                                                 \n",
            "=================================================================\n",
            "Total params: 7,635,264\n",
            "Trainable params: 7,635,264\n",
            "Non-trainable params: 0\n",
            "_________________________________________________________________\n"
          ]
        }
      ],
      "source": [
        "model_layer13 = Model(inputs=model.inputs, outputs=model.layers[13].output)\n",
        "model_layer13.summary()"
      ]
    },
    {
      "cell_type": "code",
      "source": [
        "feature_maps13 = model_layer13.predict(img)"
      ],
      "metadata": {
        "id": "VGwI4O5eSm76",
        "colab": {
          "base_uri": "https://localhost:8080/"
        },
        "outputId": "d972e1a2-2ad8-45ca-e14f-4454e0a40199"
      },
      "execution_count": 23,
      "outputs": [
        {
          "output_type": "stream",
          "name": "stdout",
          "text": [
            "1/1 [==============================] - 1s 616ms/step\n"
          ]
        }
      ]
    },
    {
      "cell_type": "code",
      "source": [
        "# plot all 64 maps in an 8x8 squares\n",
        "square = 4\n",
        "ix = 1\n",
        "for _ in range(square):\n",
        "\tfor _ in range(square):\n",
        "\t\t# specify subplot and turn of axis\n",
        "\t\tax = pyplot.subplot(square, square, ix)\n",
        "\t\tax.set_xticks([])\n",
        "\t\tax.set_yticks([])\n",
        "\t\t# plot filter channel in grayscale\n",
        "\t\tpyplot.imshow(feature_maps13[0, :, :, ix-1], cmap='gray')\n",
        "\t\tix += 1\n",
        "# show the figure\n",
        "pyplot.show()"
      ],
      "metadata": {
        "colab": {
          "base_uri": "https://localhost:8080/",
          "height": 252
        },
        "id": "iwGjY-EkSqYJ",
        "outputId": "3319c7e3-ca6a-422b-c01f-a7821471d8bd"
      },
      "execution_count": 24,
      "outputs": [
        {
          "output_type": "display_data",
          "data": {
            "text/plain": [
              "<Figure size 432x288 with 16 Axes>"
            ],
            "image/png": "[encoded data removed]"
          },
          "metadata": {}
        }
      ]
    }
  ],
  "metadata": {
    "kernelspec": {
      "display_name": "Python 3",
      "language": "python",
      "name": "python3"
    },
    "language_info": {
      "codemirror_mode": {
        "name": "ipython",
        "version": 3
      },
      "file_extension": ".py",
      "mimetype": "text/x-python",
      "name": "python",
      "nbconvert_exporter": "python",
      "pygments_lexer": "ipython3",
      "version": "3.7.4"
    },
    "colab": {
      "provenance": [],
      "collapsed_sections": []
    }
  },
  "nbformat": 4,
  "nbformat_minor": 0
}